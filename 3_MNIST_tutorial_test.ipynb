{
  "nbformat": 4,
  "nbformat_minor": 0,
  "metadata": {
    "colab": {
      "name": "3.MNIST_tutorial_test.ipynb",
      "provenance": [],
      "collapsed_sections": [],
      "authorship_tag": "ABX9TyONccAQRSfsWJ76UQJR0ETE",
      "include_colab_link": true
    },
    "kernelspec": {
      "name": "python3",
      "display_name": "Python 3"
    },
    "language_info": {
      "name": "python"
    }
  },
  "cells": [
    {
      "cell_type": "markdown",
      "metadata": {
        "id": "view-in-github",
        "colab_type": "text"
      },
      "source": [
        "<a href=\"https://colab.research.google.com/github/chasuar/Raspberry_study/blob/main/3_MNIST_tutorial_test.ipynb\" target=\"_parent\"><img src=\"https://colab.research.google.com/assets/colab-badge.svg\" alt=\"Open In Colab\"/></a>"
      ]
    },
    {
      "cell_type": "markdown",
      "source": [
        "##저장한 모델을 가져와서 손글씨 인식하기"
      ],
      "metadata": {
        "id": "a54Acer62d_X"
      }
    },
    {
      "cell_type": "code",
      "execution_count": null,
      "metadata": {
        "id": "KxMzaYGVrQAh"
      },
      "outputs": [],
      "source": [
        "from keras.models import load_model\n",
        "from PIL import Image\n",
        "import matplotlib.pyplot as plt\n",
        "import numpy as np"
      ]
    },
    {
      "cell_type": "code",
      "source": [
        "#이미지 불러오기(흑백)\n",
        "img =Image.open(\"/content/drive/MyDrive/창의적종합설계/2주차/test_5.png\").convert(\"L\")\n",
        "plt.imshow(img)\n",
        "plt.show()"
      ],
      "metadata": {
        "colab": {
          "base_uri": "https://localhost:8080/",
          "height": 268
        },
        "id": "lG7a5ePrs5z2",
        "outputId": "9c622813-aad4-4268-c7e6-daec4baf0be1"
      },
      "execution_count": null,
      "outputs": [
        {
          "output_type": "display_data",
          "data": {
            "text/plain": [
              "<Figure size 432x288 with 1 Axes>"
            ],
            "image/png": "[encoded data removed]"
          },
          "metadata": {
            "needs_background": "light"
          }
        }
      ]
    },
    {
      "cell_type": "code",
      "source": [
        "#크기 맞추기\n",
        "img=img.resize((28,28))\n",
        "img=np.array(img)\n",
        "print(img.shape)\n",
        "for x in img:\n",
        "  num_str=\"\"\n",
        "  for i in x:\n",
        "      num_str=num_str+str(i)+\"\\t\"\n",
        "  print(num_str)\n"
      ],
      "metadata": {
        "colab": {
          "base_uri": "https://localhost:8080/"
        },
        "id": "t6FVLZ5ovQ5g",
        "outputId": "c8ef70a1-3017-4f61-83c9-8610e1b85db3"
      },
      "execution_count": null,
      "outputs": [
        {
          "output_type": "stream",
          "name": "stdout",
          "text": [
            "(28, 28)\n",
            "255\t255\t255\t255\t255\t255\t255\t255\t255\t255\t255\t255\t255\t255\t255\t255\t255\t255\t255\t255\t255\t255\t255\t255\t255\t255\t255\t255\t\n",
            "255\t255\t255\t255\t255\t255\t255\t255\t255\t255\t255\t255\t255\t255\t255\t255\t255\t255\t255\t255\t255\t255\t255\t255\t255\t255\t255\t255\t\n",
            "255\t255\t255\t255\t255\t255\t255\t255\t255\t255\t255\t255\t255\t255\t255\t255\t255\t255\t255\t255\t255\t255\t255\t255\t255\t255\t255\t255\t\n",
            "255\t255\t255\t255\t255\t255\t255\t255\t255\t255\t255\t255\t255\t255\t255\t255\t255\t255\t255\t255\t255\t255\t255\t255\t255\t255\t255\t255\t\n",
            "255\t255\t255\t255\t255\t255\t255\t255\t255\t255\t255\t255\t255\t255\t255\t255\t255\t255\t255\t255\t255\t255\t255\t255\t255\t255\t255\t255\t\n",
            "255\t255\t255\t255\t255\t255\t255\t255\t255\t255\t255\t255\t255\t255\t255\t255\t255\t255\t255\t255\t255\t255\t255\t255\t255\t255\t255\t255\t\n",
            "255\t255\t255\t255\t255\t255\t255\t255\t255\t255\t255\t255\t255\t247\t181\t223\t255\t255\t255\t255\t255\t255\t255\t255\t255\t255\t255\t255\t\n",
            "255\t255\t255\t255\t255\t255\t255\t255\t255\t255\t255\t255\t255\t235\t13\t142\t255\t255\t255\t203\t161\t187\t254\t255\t255\t255\t255\t255\t\n",
            "255\t255\t255\t255\t255\t255\t255\t255\t255\t255\t255\t255\t255\t194\t6\t57\t76\t76\t71\t33\t75\t114\t252\t255\t255\t255\t255\t255\t\n",
            "255\t255\t255\t255\t255\t255\t255\t255\t255\t255\t255\t255\t234\t43\t128\t164\t161\t161\t161\t209\t255\t255\t255\t255\t255\t255\t255\t255\t\n",
            "255\t255\t255\t255\t255\t255\t255\t255\t255\t255\t255\t255\t127\t72\t255\t255\t255\t255\t255\t255\t255\t255\t255\t255\t255\t255\t255\t255\t\n",
            "255\t255\t255\t255\t255\t255\t255\t255\t255\t255\t255\t169\t21\t206\t255\t255\t255\t255\t255\t255\t255\t255\t255\t255\t255\t255\t255\t255\t\n",
            "255\t255\t255\t255\t255\t255\t255\t255\t255\t255\t148\t32\t163\t255\t255\t255\t255\t255\t255\t255\t255\t255\t255\t255\t255\t255\t255\t255\t\n",
            "255\t255\t255\t255\t255\t255\t255\t255\t255\t201\t18\t183\t240\t233\t233\t246\t255\t255\t255\t255\t255\t255\t255\t255\t255\t255\t255\t255\t\n",
            "255\t255\t255\t255\t255\t255\t255\t255\t255\t152\t23\t43\t38\t38\t38\t51\t181\t255\t255\t255\t255\t255\t255\t255\t255\t255\t255\t255\t\n",
            "255\t255\t255\t255\t255\t255\t255\t255\t255\t248\t235\t233\t233\t233\t233\t151\t37\t90\t248\t255\t255\t255\t255\t255\t255\t255\t255\t255\t\n",
            "255\t255\t255\t255\t255\t255\t255\t255\t255\t255\t255\t255\t255\t255\t255\t255\t235\t43\t138\t255\t255\t255\t255\t255\t255\t255\t255\t255\t\n",
            "255\t255\t255\t255\t255\t255\t255\t255\t255\t255\t255\t255\t255\t255\t255\t255\t255\t172\t33\t249\t255\t255\t255\t255\t255\t255\t255\t255\t\n",
            "255\t255\t255\t255\t255\t255\t255\t255\t255\t255\t255\t255\t255\t255\t255\t255\t255\t217\t41\t248\t255\t255\t255\t255\t255\t255\t255\t255\t\n",
            "255\t255\t255\t255\t255\t255\t255\t255\t255\t255\t255\t255\t255\t255\t255\t255\t255\t192\t31\t248\t255\t255\t255\t255\t255\t255\t255\t255\t\n",
            "255\t255\t255\t255\t255\t255\t255\t255\t255\t244\t172\t214\t233\t233\t233\t226\t147\t24\t107\t253\t255\t255\t255\t255\t255\t255\t255\t255\t\n",
            "255\t255\t255\t255\t255\t255\t255\t255\t255\t229\t77\t33\t38\t38\t38\t35\t63\t172\t255\t255\t255\t255\t255\t255\t255\t255\t255\t255\t\n",
            "255\t255\t255\t255\t255\t255\t255\t255\t255\t255\t255\t235\t233\t233\t233\t233\t255\t255\t255\t255\t255\t255\t255\t255\t255\t255\t255\t255\t\n",
            "255\t255\t255\t255\t255\t255\t255\t255\t255\t255\t255\t255\t255\t255\t255\t255\t255\t255\t255\t255\t255\t255\t255\t255\t255\t255\t255\t255\t\n",
            "255\t255\t255\t255\t255\t255\t255\t255\t255\t255\t255\t255\t255\t255\t255\t255\t255\t255\t255\t255\t255\t255\t255\t255\t255\t255\t255\t255\t\n",
            "255\t255\t255\t255\t255\t255\t255\t255\t255\t255\t255\t255\t255\t255\t255\t255\t255\t255\t255\t255\t255\t255\t255\t255\t255\t255\t255\t255\t\n",
            "255\t255\t255\t255\t255\t255\t255\t255\t255\t255\t255\t255\t255\t255\t255\t255\t255\t255\t255\t255\t255\t255\t255\t255\t255\t255\t255\t255\t\n",
            "255\t255\t255\t255\t255\t255\t255\t255\t255\t255\t255\t255\t255\t255\t255\t255\t255\t255\t255\t255\t255\t255\t255\t255\t255\t255\t255\t255\t\n"
          ]
        }
      ]
    },
    {
      "cell_type": "markdown",
      "source": [
        ""
      ],
      "metadata": {
        "id": "Yjqi8hdH2WaY"
      }
    },
    {
      "cell_type": "code",
      "source": [
        "#색상 맞추기\n",
        "img=255-img\n",
        "for x in img:\n",
        "  num_str=\"\"\n",
        "  for i in x:\n",
        "      num_str=num_str+str(i)+\"\\t\"\n",
        "  print(num_str)\n"
      ],
      "metadata": {
        "colab": {
          "base_uri": "https://localhost:8080/"
        },
        "id": "1a9DvoE81lux",
        "outputId": "eb27fe1e-7633-474f-bd11-3ef83c85972a"
      },
      "execution_count": null,
      "outputs": [
        {
          "output_type": "stream",
          "name": "stdout",
          "text": [
            "0\t0\t0\t0\t0\t0\t0\t0\t0\t0\t0\t0\t0\t0\t0\t0\t0\t0\t0\t0\t0\t0\t0\t0\t0\t0\t0\t0\t\n",
            "0\t0\t0\t0\t0\t0\t0\t0\t0\t0\t0\t0\t0\t0\t0\t0\t0\t0\t0\t0\t0\t0\t0\t0\t0\t0\t0\t0\t\n",
            "0\t0\t0\t0\t0\t0\t0\t0\t0\t0\t0\t0\t0\t0\t0\t0\t0\t0\t0\t0\t0\t0\t0\t0\t0\t0\t0\t0\t\n",
            "0\t0\t0\t0\t0\t0\t0\t0\t0\t0\t0\t0\t0\t0\t0\t0\t0\t0\t0\t0\t0\t0\t0\t0\t0\t0\t0\t0\t\n",
            "0\t0\t0\t0\t0\t0\t0\t0\t0\t0\t0\t0\t0\t0\t0\t0\t0\t0\t0\t0\t0\t0\t0\t0\t0\t0\t0\t0\t\n",
            "0\t0\t0\t0\t0\t0\t0\t0\t0\t0\t0\t0\t0\t0\t0\t0\t0\t0\t0\t0\t0\t0\t0\t0\t0\t0\t0\t0\t\n",
            "0\t0\t0\t0\t0\t0\t0\t0\t0\t0\t0\t0\t0\t8\t74\t32\t0\t0\t0\t0\t0\t0\t0\t0\t0\t0\t0\t0\t\n",
            "0\t0\t0\t0\t0\t0\t0\t0\t0\t0\t0\t0\t0\t20\t242\t113\t0\t0\t0\t52\t94\t68\t1\t0\t0\t0\t0\t0\t\n",
            "0\t0\t0\t0\t0\t0\t0\t0\t0\t0\t0\t0\t0\t61\t249\t198\t179\t179\t184\t222\t180\t141\t3\t0\t0\t0\t0\t0\t\n",
            "0\t0\t0\t0\t0\t0\t0\t0\t0\t0\t0\t0\t21\t212\t127\t91\t94\t94\t94\t46\t0\t0\t0\t0\t0\t0\t0\t0\t\n",
            "0\t0\t0\t0\t0\t0\t0\t0\t0\t0\t0\t0\t128\t183\t0\t0\t0\t0\t0\t0\t0\t0\t0\t0\t0\t0\t0\t0\t\n",
            "0\t0\t0\t0\t0\t0\t0\t0\t0\t0\t0\t86\t234\t49\t0\t0\t0\t0\t0\t0\t0\t0\t0\t0\t0\t0\t0\t0\t\n",
            "0\t0\t0\t0\t0\t0\t0\t0\t0\t0\t107\t223\t92\t0\t0\t0\t0\t0\t0\t0\t0\t0\t0\t0\t0\t0\t0\t0\t\n",
            "0\t0\t0\t0\t0\t0\t0\t0\t0\t54\t237\t72\t15\t22\t22\t9\t0\t0\t0\t0\t0\t0\t0\t0\t0\t0\t0\t0\t\n",
            "0\t0\t0\t0\t0\t0\t0\t0\t0\t103\t232\t212\t217\t217\t217\t204\t74\t0\t0\t0\t0\t0\t0\t0\t0\t0\t0\t0\t\n",
            "0\t0\t0\t0\t0\t0\t0\t0\t0\t7\t20\t22\t22\t22\t22\t104\t218\t165\t7\t0\t0\t0\t0\t0\t0\t0\t0\t0\t\n",
            "0\t0\t0\t0\t0\t0\t0\t0\t0\t0\t0\t0\t0\t0\t0\t0\t20\t212\t117\t0\t0\t0\t0\t0\t0\t0\t0\t0\t\n",
            "0\t0\t0\t0\t0\t0\t0\t0\t0\t0\t0\t0\t0\t0\t0\t0\t0\t83\t222\t6\t0\t0\t0\t0\t0\t0\t0\t0\t\n",
            "0\t0\t0\t0\t0\t0\t0\t0\t0\t0\t0\t0\t0\t0\t0\t0\t0\t38\t214\t7\t0\t0\t0\t0\t0\t0\t0\t0\t\n",
            "0\t0\t0\t0\t0\t0\t0\t0\t0\t0\t0\t0\t0\t0\t0\t0\t0\t63\t224\t7\t0\t0\t0\t0\t0\t0\t0\t0\t\n",
            "0\t0\t0\t0\t0\t0\t0\t0\t0\t11\t83\t41\t22\t22\t22\t29\t108\t231\t148\t2\t0\t0\t0\t0\t0\t0\t0\t0\t\n",
            "0\t0\t0\t0\t0\t0\t0\t0\t0\t26\t178\t222\t217\t217\t217\t220\t192\t83\t0\t0\t0\t0\t0\t0\t0\t0\t0\t0\t\n",
            "0\t0\t0\t0\t0\t0\t0\t0\t0\t0\t0\t20\t22\t22\t22\t22\t0\t0\t0\t0\t0\t0\t0\t0\t0\t0\t0\t0\t\n",
            "0\t0\t0\t0\t0\t0\t0\t0\t0\t0\t0\t0\t0\t0\t0\t0\t0\t0\t0\t0\t0\t0\t0\t0\t0\t0\t0\t0\t\n",
            "0\t0\t0\t0\t0\t0\t0\t0\t0\t0\t0\t0\t0\t0\t0\t0\t0\t0\t0\t0\t0\t0\t0\t0\t0\t0\t0\t0\t\n",
            "0\t0\t0\t0\t0\t0\t0\t0\t0\t0\t0\t0\t0\t0\t0\t0\t0\t0\t0\t0\t0\t0\t0\t0\t0\t0\t0\t0\t\n",
            "0\t0\t0\t0\t0\t0\t0\t0\t0\t0\t0\t0\t0\t0\t0\t0\t0\t0\t0\t0\t0\t0\t0\t0\t0\t0\t0\t0\t\n",
            "0\t0\t0\t0\t0\t0\t0\t0\t0\t0\t0\t0\t0\t0\t0\t0\t0\t0\t0\t0\t0\t0\t0\t0\t0\t0\t0\t0\t\n"
          ]
        }
      ]
    },
    {
      "cell_type": "code",
      "source": [
        "img=img/255.0\n",
        "img=img.reshape((1,28,28,1))\n",
        "print(img.shape)"
      ],
      "metadata": {
        "colab": {
          "base_uri": "https://localhost:8080/"
        },
        "id": "h0E_ngltxOCo",
        "outputId": "f75e0800-f8fc-4b6b-8fb3-42dc37dbc063"
      },
      "execution_count": null,
      "outputs": [
        {
          "output_type": "stream",
          "name": "stdout",
          "text": [
            "(1, 28, 28, 1)\n"
          ]
        }
      ]
    },
    {
      "cell_type": "code",
      "source": [
        "model = load_model('/content/drive/MyDrive/창의적종합설계/2주차/Predict_Model.h5')\n"
      ],
      "metadata": {
        "id": "3VtHIdGIwOai"
      },
      "execution_count": null,
      "outputs": []
    },
    {
      "cell_type": "code",
      "source": [
        "predict=model.predict_on_batch(img)"
      ],
      "metadata": {
        "id": "-b2rg2uhwWuf"
      },
      "execution_count": null,
      "outputs": []
    },
    {
      "cell_type": "code",
      "source": [
        "mypred = np.argmax(predict, axis = 1)\n",
        "print(\"predict:\", mypred)"
      ],
      "metadata": {
        "colab": {
          "base_uri": "https://localhost:8080/"
        },
        "id": "-dQTUZrk2KVH",
        "outputId": "1fadd135-e67a-4855-ff2b-07884cd314f9"
      },
      "execution_count": null,
      "outputs": [
        {
          "output_type": "stream",
          "name": "stdout",
          "text": [
            "predict: [8]\n"
          ]
        }
      ]
    }
  ]
}