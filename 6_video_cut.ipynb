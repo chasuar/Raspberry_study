{
  "nbformat": 4,
  "nbformat_minor": 0,
  "metadata": {
    "colab": {
      "name": "6_video_cut",
      "provenance": [],
      "collapsed_sections": [],
      "mount_file_id": "15my0ghFI8A1ba2G1nNGqtrX3qaZwAQ3L",
      "authorship_tag": "ABX9TyOK4vM3KkYsNuE9WgEKhCcz",
      "include_colab_link": true
    },
    "kernelspec": {
      "name": "python3",
      "display_name": "Python 3"
    },
    "language_info": {
      "name": "python"
    }
  },
  "cells": [
    {
      "cell_type": "markdown",
      "metadata": {
        "id": "view-in-github",
        "colab_type": "text"
      },
      "source": [
        "<a href=\"https://colab.research.google.com/github/chasuar/Raspberry_study/blob/main/6_video_cut.ipynb\" target=\"_parent\"><img src=\"https://colab.research.google.com/assets/colab-badge.svg\" alt=\"Open In Colab\"/></a>"
      ]
    },
    {
      "cell_type": "code",
      "execution_count": null,
      "metadata": {
        "id": "ydJs_JFrEPT3"
      },
      "outputs": [],
      "source": [
        "import cv2"
      ]
    },
    {
      "cell_type": "code",
      "source": [
        "vidcap = cv2.VideoCapture('/content/drive/MyDrive/창의적종합설계 2분반/video/x_video.mp4')\n",
        " \n",
        "count = 0\n",
        " \n",
        "while(vidcap.isOpened()):\n",
        "    ret, image = vidcap.read()\n",
        " \n",
        "    # 캡쳐된 이미지를 저장하는 함수 \n",
        "    cv2.imwrite(\"/content/drive/MyDrive/창의적종합설계 2분반/x/x_%d.jpg\" % count, image)\n",
        " \n",
        "    print('Saved frame%d.jpg' % count)\n",
        "    count += 1\n",
        " \n",
        "vidcap.release()\n",
        "\n"
      ],
      "metadata": {
        "colab": {
          "base_uri": "https://localhost:8080/"
        },
        "id": "4EMfNcpnET9m",
        "outputId": "02d2fc47-8c66-46c7-dfd8-dab142f7f4af"
      },
      "execution_count": null,
      "outputs": [
        {
          "output_type": "stream",
          "name": "stdout",
          "text": [
            "Saved frame0.jpg\n",
            "Saved frame1.jpg\n",
            "Saved frame2.jpg\n",
            "Saved frame3.jpg\n",
            "Saved frame4.jpg\n",
            "Saved frame5.jpg\n",
            "Saved frame6.jpg\n",
            "Saved frame7.jpg\n",
            "Saved frame8.jpg\n",
            "Saved frame9.jpg\n",
            "Saved frame10.jpg\n",
            "Saved frame11.jpg\n",
            "Saved frame12.jpg\n",
            "Saved frame13.jpg\n",
            "Saved frame14.jpg\n",
            "Saved frame15.jpg\n",
            "Saved frame16.jpg\n",
            "Saved frame17.jpg\n",
            "Saved frame18.jpg\n",
            "Saved frame19.jpg\n",
            "Saved frame20.jpg\n",
            "Saved frame21.jpg\n",
            "Saved frame22.jpg\n",
            "Saved frame23.jpg\n",
            "Saved frame24.jpg\n",
            "Saved frame25.jpg\n",
            "Saved frame26.jpg\n",
            "Saved frame27.jpg\n",
            "Saved frame28.jpg\n",
            "Saved frame29.jpg\n",
            "Saved frame30.jpg\n",
            "Saved frame31.jpg\n",
            "Saved frame32.jpg\n",
            "Saved frame33.jpg\n",
            "Saved frame34.jpg\n",
            "Saved frame35.jpg\n",
            "Saved frame36.jpg\n",
            "Saved frame37.jpg\n",
            "Saved frame38.jpg\n",
            "Saved frame39.jpg\n",
            "Saved frame40.jpg\n",
            "Saved frame41.jpg\n",
            "Saved frame42.jpg\n",
            "Saved frame43.jpg\n",
            "Saved frame44.jpg\n",
            "Saved frame45.jpg\n",
            "Saved frame46.jpg\n",
            "Saved frame47.jpg\n",
            "Saved frame48.jpg\n",
            "Saved frame49.jpg\n",
            "Saved frame50.jpg\n",
            "Saved frame51.jpg\n",
            "Saved frame52.jpg\n",
            "Saved frame53.jpg\n",
            "Saved frame54.jpg\n",
            "Saved frame55.jpg\n",
            "Saved frame56.jpg\n",
            "Saved frame57.jpg\n",
            "Saved frame58.jpg\n",
            "Saved frame59.jpg\n",
            "Saved frame60.jpg\n",
            "Saved frame61.jpg\n",
            "Saved frame62.jpg\n",
            "Saved frame63.jpg\n",
            "Saved frame64.jpg\n",
            "Saved frame65.jpg\n",
            "Saved frame66.jpg\n",
            "Saved frame67.jpg\n",
            "Saved frame68.jpg\n",
            "Saved frame69.jpg\n",
            "Saved frame70.jpg\n",
            "Saved frame71.jpg\n",
            "Saved frame72.jpg\n",
            "Saved frame73.jpg\n",
            "Saved frame74.jpg\n",
            "Saved frame75.jpg\n",
            "Saved frame76.jpg\n",
            "Saved frame77.jpg\n",
            "Saved frame78.jpg\n",
            "Saved frame79.jpg\n",
            "Saved frame80.jpg\n",
            "Saved frame81.jpg\n",
            "Saved frame82.jpg\n",
            "Saved frame83.jpg\n",
            "Saved frame84.jpg\n",
            "Saved frame85.jpg\n",
            "Saved frame86.jpg\n",
            "Saved frame87.jpg\n",
            "Saved frame88.jpg\n",
            "Saved frame89.jpg\n",
            "Saved frame90.jpg\n",
            "Saved frame91.jpg\n",
            "Saved frame92.jpg\n",
            "Saved frame93.jpg\n",
            "Saved frame94.jpg\n",
            "Saved frame95.jpg\n",
            "Saved frame96.jpg\n",
            "Saved frame97.jpg\n",
            "Saved frame98.jpg\n",
            "Saved frame99.jpg\n",
            "Saved frame100.jpg\n",
            "Saved frame101.jpg\n",
            "Saved frame102.jpg\n",
            "Saved frame103.jpg\n",
            "Saved frame104.jpg\n",
            "Saved frame105.jpg\n",
            "Saved frame106.jpg\n",
            "Saved frame107.jpg\n",
            "Saved frame108.jpg\n",
            "Saved frame109.jpg\n",
            "Saved frame110.jpg\n",
            "Saved frame111.jpg\n",
            "Saved frame112.jpg\n",
            "Saved frame113.jpg\n",
            "Saved frame114.jpg\n",
            "Saved frame115.jpg\n",
            "Saved frame116.jpg\n",
            "Saved frame117.jpg\n",
            "Saved frame118.jpg\n",
            "Saved frame119.jpg\n",
            "Saved frame120.jpg\n",
            "Saved frame121.jpg\n",
            "Saved frame122.jpg\n"
          ]
        }
      ]
    },
    {
      "cell_type": "code",
      "source": [
        ""
      ],
      "metadata": {
        "id": "_NGde9_SEdq6"
      },
      "execution_count": null,
      "outputs": []
    }
  ]
}